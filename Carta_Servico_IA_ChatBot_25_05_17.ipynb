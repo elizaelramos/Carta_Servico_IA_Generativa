{
  "nbformat": 4,
  "nbformat_minor": 0,
  "metadata": {
    "colab": {
      "provenance": [],
      "authorship_tag": "ABX9TyOWxAbv+Gzp17ns/65wMI/g",
      "include_colab_link": true
    },
    "kernelspec": {
      "name": "python3",
      "display_name": "Python 3"
    },
    "language_info": {
      "name": "python"
    }
  },
  "cells": [
    {
      "cell_type": "markdown",
      "metadata": {
        "id": "view-in-github",
        "colab_type": "text"
      },
      "source": [
        "<a href=\"https://colab.research.google.com/github/elizaelramos/Carta_Servico_IA_Generativa/blob/main/Carta_Servico_IA_ChatBot_25_05_17.ipynb\" target=\"_parent\"><img src=\"https://colab.research.google.com/assets/colab-badge.svg\" alt=\"Open In Colab\"/></a>"
      ]
    },
    {
      "cell_type": "code",
      "execution_count": 1,
      "metadata": {
        "id": "sdh37ZQgv3Vo"
      },
      "outputs": [],
      "source": [
        "!pip install -q -U google-generativeai"
      ]
    },
    {
      "cell_type": "code",
      "source": [
        "import google.generativeai as genai"
      ],
      "metadata": {
        "id": "_m4vl3_FwxdF"
      },
      "execution_count": 2,
      "outputs": []
    },
    {
      "cell_type": "code",
      "source": [
        "from google.colab import userdata\n",
        "GOOGLE_GEMINI_API_KEY = userdata.get('GOOGLE_API_KEY')\n",
        "genai.configure(api_key=GOOGLE_GEMINI_API_KEY)"
      ],
      "metadata": {
        "id": "f7kitiiKw5JF"
      },
      "execution_count": 3,
      "outputs": []
    },
    {
      "cell_type": "code",
      "source": [
        "model = genai.GenerativeModel(\"gemini-2.0-flash\")"
      ],
      "metadata": {
        "id": "FViTwI9nzeSz"
      },
      "execution_count": 6,
      "outputs": []
    },
    {
      "cell_type": "code",
      "source": [
        "chat= model.start_chat(history=[])"
      ],
      "metadata": {
        "id": "Phnfp6vH0LC7"
      },
      "execution_count": 24,
      "outputs": []
    },
    {
      "cell_type": "code",
      "source": [
        "PDF_URL = \"https://drive.google.com/uc?export=download&id=1fzKawzdbcD6WRgChIGgK5lFPR0hAIjpO\""
      ],
      "metadata": {
        "id": "HWrfDIzaLDrg"
      },
      "execution_count": 13,
      "outputs": []
    },
    {
      "cell_type": "code",
      "source": [
        "#importar o API de PDF\n",
        "!pip install pypdf\n",
        "import pypdf"
      ],
      "metadata": {
        "id": "kDyDB_WaLMSf"
      },
      "execution_count": null,
      "outputs": []
    },
    {
      "cell_type": "code",
      "source": [
        "# fazer o download e extrair o texto do PDF\n",
        "from io import BytesIO\n",
        "import requests\n",
        "response = requests.get(PDF_URL)\n",
        "reader = pypdf.PdfReader(BytesIO(response.content))\n",
        "text = \"\"\n",
        "for page in reader.pages:\n",
        "  text += page.extract_text()\n",
        "  Carta_Serv_PDF = text\n"
      ],
      "metadata": {
        "id": "4SWP0X_xLrdI"
      },
      "execution_count": 19,
      "outputs": []
    },
    {
      "cell_type": "code",
      "source": [
        "TELEFONE_ORGAO = \"67 99999-8888\"\n",
        "\n",
        "prompt_base = f\"\"\"\n",
        "Você é um assistente virtual de um órgão público.\n",
        "Abaixo está o conteúdo da Carta de Serviços deste órgão:\n",
        "\n",
        "\\\"\\\"\\\"{Carta_Serv_PDF}\\\"\\\"\\\"\n",
        "\n",
        "Quando um cidadão fizer uma pergunta, responda com base apenas na Carta de Serviços acima.\n",
        "\n",
        "Se a informação **não estiver na carta**, responda educadamente que a informação não foi localizada e informe o telefone de contato: {TELEFONE_ORGAO}.\n",
        "\"\"\""
      ],
      "metadata": {
        "id": "1Ylk_MQyQuuy"
      },
      "execution_count": 20,
      "outputs": []
    },
    {
      "cell_type": "code",
      "source": [
        "print(\"\\n🤖 Assistente da Carta de Serviços\\nDigite sua pergunta ou 'sair' para encerrar.\")\n",
        "while True:\n",
        "    pergunta = input(\"\\nVocê: \")\n",
        "    if pergunta.lower() in [\"sair\", \"exit\", \"quit\"]:\n",
        "        print(\"Encerrando o atendimento. Obrigado!\")\n",
        "        break\n",
        "\n",
        "    resposta = chat.send_message(f\"{prompt_base}\\n\\nPergunta do cidadão: {pergunta}\")\n",
        "    print(f\"\\n🧠 Resposta:\\n{resposta.text}\")"
      ],
      "metadata": {
        "id": "_mil_570POKz"
      },
      "execution_count": null,
      "outputs": []
    }
  ]
}